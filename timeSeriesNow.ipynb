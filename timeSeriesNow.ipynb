{
 "cells": [
  {
   "cell_type": "markdown",
   "metadata": {},
   "source": [
    "# Ejercicio 1: Análisis Exploratorio de Datos"
   ]
  },
  {
   "cell_type": "code",
   "execution_count": 1,
   "metadata": {},
   "outputs": [],
   "source": [
    "#%pip install pandas\n",
    "#%pip install numpy\n",
    "#%pip install matplotlib\n",
    "#%pip install statsmodels\n",
    "#%pip install tensorflow\n",
    "#%pip install keras\n",
    "#%pip install scikit-learn\n",
    "#%pip install distutils\n",
    "#%pip install openpyxl\n"
   ]
  },
  {
   "cell_type": "code",
   "execution_count": 2,
   "metadata": {},
   "outputs": [],
   "source": [
    "import pandas as pd\n",
    "import numpy as np\n",
    "import matplotlib.pyplot as plt\n",
    "import statsmodels.tsa as tsa\n",
    "import statsmodels as sm\n",
    "from datetime import datetime\n",
    "import os\n",
    "from statsmodels.tsa.seasonal import seasonal_decompose\n",
    "from statsmodels.tsa.stattools import adfuller\n",
    "\n",
    "#Tensorflow\n",
    "import tensorflow as tf\n",
    "from sklearn.preprocessing import StandardScaler\n",
    "from keras.models import Sequential,save_model,load_model\n",
    "from keras.layers import Dense\n",
    "from keras.layers import LSTM\n",
    "from keras.callbacks import EarlyStopping\n",
    "from keras.metrics import MeanSquaredError\n",
    "from keras.metrics import RootMeanSquaredError\n",
    "from keras.optimizers import Adam\n",
    "from sklearn.metrics import mean_squared_error\n",
    "import keras\n",
    "\n",
    "%matplotlib inline"
   ]
  },
  {
   "cell_type": "code",
   "execution_count": 3,
   "metadata": {},
   "outputs": [],
   "source": [
    "precios_2021 = pd.read_excel('PRECIOS 2021.xlsx', engine='openpyxl')\n",
    "precios_2022 = pd.read_excel('PRECIOS 2022.xlsx', engine='openpyxl')\n",
    "precios_2023 = pd.read_excel('PRECIOS 2023.xlsx', engine='openpyxl')\n",
    "precios_2024 = pd.read_excel('PRECIOS 2024.xlsx', engine='openpyxl')\n",
    "\n",
    "consumo = pd.read_excel('CONSUMO.xlsx', engine='openpyxl')\n",
    "importacion = pd.read_excel('IMPORTACION.xlsx', engine='openpyxl')"
   ]
  },
  {
   "cell_type": "code",
   "execution_count": 4,
   "metadata": {},
   "outputs": [],
   "source": [
    "# Unificar datos de precios\n",
    "precios = pd.concat([precios_2021, precios_2022, precios_2023, precios_2024], ignore_index=True)\n",
    "\n",
    "# Convertir columnas de fecha a datetime\n",
    "consumo['Fecha'] = pd.to_datetime(consumo['Fecha'], format='%b/%Y')\n",
    "importacion['Fecha'] = pd.to_datetime(importacion['Fecha'], format='%b/%Y')\n",
    "precios['FECHA'] = pd.to_datetime(precios['FECHA'], format='%d/%b/%Y')"
   ]
  },
  {
   "cell_type": "code",
   "execution_count": 5,
   "metadata": {},
   "outputs": [],
   "source": [
    "consumo_seleccionado = consumo[['Fecha', 'Gasolina regular', 'Gasolina superior', 'Diesel bajo azufre', 'Gas licuado de petróleo']]\n",
    "importacion_seleccionado = importacion[['Fecha', 'Gasolina regular', 'Gasolina superior', 'Diesel bajo azufre', 'Gas licuado de petróleo']]\n",
    "precios_seleccionado = precios[['FECHA', 'Superior', 'Regular', 'Diesel', 'Glp Cilindro 25Lbs.']]\n"
   ]
  },
  {
   "cell_type": "code",
   "execution_count": 6,
   "metadata": {},
   "outputs": [],
   "source": [
    "consumo_seleccionado.set_index('Fecha', inplace=True)\n",
    "importacion_seleccionado.set_index('Fecha', inplace=True)\n",
    "precios_seleccionado.set_index('FECHA', inplace=True)"
   ]
  },
  {
   "cell_type": "code",
   "execution_count": 7,
   "metadata": {},
   "outputs": [],
   "source": [
    "# Selección de series\n",
    "serie_gasolina_super = consumo_seleccionado['Gasolina superior']\n",
    "serie_gasolina_regular = consumo_seleccionado['Gasolina regular']\n",
    "serie_diesel = consumo_seleccionado['Diesel bajo azufre']\n",
    "serie_gas_lp = consumo_seleccionado['Gas licuado de petróleo']\n",
    "\n",
    "# Series de importación\n",
    "serie_gasolina_super_import = importacion_seleccionado['Gasolina superior']\n",
    "serie_gasolina_regular_import = importacion_seleccionado['Gasolina regular']\n",
    "serie_diesel_import = importacion_seleccionado['Diesel bajo azufre']\n",
    "serie_gas_lp_import = importacion_seleccionado['Gas licuado de petróleo']\n",
    "\n",
    "# Series de precios\n",
    "serie_gasolina_super_precios = precios_seleccionado['Superior']\n",
    "serie_gasolina_regular_precios = precios_seleccionado['Regular']\n",
    "serie_diesel_precios = precios_seleccionado['Diesel']\n",
    "serie_gas_lp_precios = precios_seleccionado['Glp Cilindro 25Lbs.']\n"
   ]
  },
  {
   "cell_type": "markdown",
   "metadata": {},
   "source": [
    "## Predicciones 2024 con los modelos"
   ]
  },
  {
   "cell_type": "code",
   "execution_count": 8,
   "metadata": {},
   "outputs": [],
   "source": [
    "# Quitar los datos de 2024 para abajo de las series de tiempo\n",
    "# Los test seran de 2024 en adelante\n",
    "serie_gasolina_super_test = serie_gasolina_super['2021-01-01':]\n",
    "serie_gasolina_regular_test = serie_gasolina_regular['2021-01-01':]\n",
    "serie_diesel_test = serie_diesel['2021-01-01':]\n",
    "serie_gas_lp_test = serie_gas_lp['2021-01-01':]\n",
    "\n",
    "# Eliminar NaNs\n",
    "serie_gasolina_super_test = serie_gasolina_super_test.dropna()\n",
    "serie_gasolina_regular_test = serie_gasolina_regular_test.dropna()\n",
    "serie_diesel_test = serie_diesel_test.dropna()\n",
    "serie_gas_lp_test = serie_gas_lp_test.dropna()\n",
    "\n",
    "# Obtener los datos de validation\n",
    "serie_gasolina_super_validation = serie_gasolina_super['2020-01-01':'2020-12-31']\n",
    "serie_gasolina_regular_validation = serie_gasolina_regular['2020-01-01':'2020-12-31']\n",
    "serie_diesel_validation = serie_diesel['2020-01-01':'2020-12-31']\n",
    "serie_gas_lp_validation = serie_gas_lp['2020-01-01':'2020-12-31']\n",
    "\n",
    "\n",
    "# Remplazamos las series por las que tienen los datos de 2024 para abajo\n",
    "serie_gasolina_super = serie_gasolina_super[:'2019-12-31']\n",
    "serie_gasolina_regular = serie_gasolina_regular[:'2019-12-31']\n",
    "serie_diesel = serie_diesel[:'2019-12-31']\n",
    "serie_gas_lp = serie_gas_lp[:'2019-12-31']\n",
    "\n",
    "\n",
    "\n"
   ]
  },
  {
   "cell_type": "code",
   "execution_count": 9,
   "metadata": {},
   "outputs": [],
   "source": [
    "# Quitar los datos de 2024 para abajo de las series de importación\n",
    "# Los test seran de 2024 en adelante\n",
    "serie_gasolina_super_import_test = serie_gasolina_super_import['2021-01-01':]\n",
    "serie_gasolina_regular_import_test = serie_gasolina_regular_import['2021-01-01':]\n",
    "serie_diesel_import_test = serie_diesel_import['2021-01-01':]\n",
    "serie_gas_lp_import_test = serie_gas_lp_import['2021-01-01':]\n",
    "\n",
    "# Eliminar NaNs\n",
    "serie_gasolina_super_import_test = serie_gasolina_super_import_test.dropna()\n",
    "serie_gasolina_regular_import_test = serie_gasolina_regular_import_test.dropna()\n",
    "serie_diesel_import_test = serie_diesel_import_test.dropna()\n",
    "serie_gas_lp_import_test = serie_gas_lp_import_test.dropna()\n",
    "\n",
    "# Obtener los datos de validation\n",
    "serie_gasolina_super_import_validation = serie_gasolina_super_import['2020-01-01':'2020-12-31']\n",
    "serie_gasolina_regular_import_validation = serie_gasolina_regular_import['2020-01-01':'2020-12-31']\n",
    "serie_diesel_import_validation = serie_diesel_import['2020-01-01':'2020-12-31']\n",
    "serie_gas_lp_import_validation = serie_gas_lp_import['2020-01-01':'2020-12-31']\n",
    "\n",
    "\n",
    "# Remplazamos las series por las que tienen los datos de 2024 para abajo\n",
    "serie_gasolina_super_import = serie_gasolina_super_import[:'2019-12-31']\n",
    "serie_gasolina_regular_import = serie_gasolina_regular_import[:'2019-12-31']\n",
    "serie_diesel_import = serie_diesel_import[:'2019-12-31']\n",
    "serie_gas_lp_import = serie_gas_lp_import[:'2019-12-31']"
   ]
  },
  {
   "cell_type": "code",
   "execution_count": 10,
   "metadata": {},
   "outputs": [],
   "source": [
    "# Quitar los datos de 2024 para abajo de las series de precios\n",
    "# Los test seran de 2024 en adelante\n",
    "serie_gasolina_super_precios_test = serie_gasolina_super_precios['2024-01-01':]\n",
    "serie_gasolina_regular_precios_test = serie_gasolina_regular_precios['2024-01-01':]\n",
    "serie_diesel_precios_test = serie_diesel_precios['2024-01-01':]\n",
    "serie_gas_lp_precios_test = serie_gas_lp_precios['2024-01-01':]\n",
    "\n",
    "# Eliminar NaNs\n",
    "serie_gasolina_super_precios_test = serie_gasolina_super_precios_test.dropna()\n",
    "serie_gasolina_regular_precios_test = serie_gasolina_regular_precios_test.dropna()\n",
    "serie_diesel_precios_test = serie_diesel_precios_test.dropna()\n",
    "serie_gas_lp_precios_test = serie_gas_lp_precios_test.dropna()\n",
    "\n",
    "# Obtener los datos de validation\n",
    "serie_gasolina_super_precios_validation = serie_gasolina_super_precios['2023-01-01':'2023-12-31']\n",
    "serie_gasolina_regular_precios_validation = serie_gasolina_regular_precios['2023-01-01':'2023-12-31']\n",
    "serie_diesel_precios_validation = serie_diesel_precios['2023-01-01':'2023-12-31']\n",
    "serie_gas_lp_precios_validation = serie_gas_lp_precios['2023-01-01':'2023-12-31']\n",
    "\n",
    "# Remplazamos las series por las que tienen los datos de 2024 para abajo\n",
    "serie_gasolina_super_precios = serie_gasolina_super_precios[:'2022-12-31']\n",
    "serie_gasolina_regular_precios = serie_gasolina_regular_precios[:'2022-12-31']\n",
    "serie_diesel_precios = serie_diesel_precios[:'2022-12-31']\n",
    "serie_gas_lp_precios = serie_gas_lp_precios[:'2022-12-31']"
   ]
  },
  {
   "cell_type": "markdown",
   "metadata": {},
   "source": [
    "### Se normalizan las series para que las redes neuronales trabajen mejor con ellas. "
   ]
  },
  {
   "cell_type": "code",
   "execution_count": 11,
   "metadata": {},
   "outputs": [],
   "source": [
    "# Normalizamos las series\n",
    "scaler = StandardScaler()\n",
    "scaler.fit(serie_gasolina_super.values.reshape(-1, 1))\n",
    "serie_gasolina_super = scaler.transform(serie_gasolina_super.values.reshape(-1, 1))\n",
    "serie_gasolina_regular = scaler.transform(serie_gasolina_regular.values.reshape(-1, 1))\n",
    "serie_diesel = scaler.transform(serie_diesel.values.reshape(-1, 1))\n",
    "serie_gas_lp = scaler.transform(serie_gas_lp.values.reshape(-1, 1))\n",
    "\n",
    "\n",
    "# Normalizamos las series de importación\n",
    "scaler_import = StandardScaler()\n",
    "scaler_import.fit(serie_gasolina_super_import.values.reshape(-1, 1))\n",
    "serie_gasolina_super_import = scaler_import.transform(serie_gasolina_super_import.values.reshape(-1, 1))\n",
    "serie_gasolina_regular_import = scaler_import.transform(serie_gasolina_regular_import.values.reshape(-1, 1))\n",
    "serie_diesel_import = scaler_import.transform(serie_diesel_import.values.reshape(-1, 1))\n",
    "serie_gas_lp_import = scaler_import.transform(serie_gas_lp_import.values.reshape(-1, 1))\n",
    "\n",
    "# Normalizamos las series de precios\n",
    "scaler_precios = StandardScaler()\n",
    "scaler_precios.fit(serie_gasolina_super_precios.values.reshape(-1, 1))\n",
    "serie_gasolina_super_precios = scaler_precios.transform(serie_gasolina_super_precios.values.reshape(-1, 1))\n",
    "serie_gasolina_regular_precios = scaler_precios.transform(serie_gasolina_regular_precios.values.reshape(-1, 1))\n",
    "serie_diesel_precios = scaler_precios.transform(serie_diesel_precios.values.reshape(-1, 1))"
   ]
  },
  {
   "cell_type": "code",
   "execution_count": 12,
   "metadata": {},
   "outputs": [],
   "source": [
    "# Normalizamos las series de test\n",
    "scaler_test = StandardScaler()\n",
    "scaler_test.fit(serie_gasolina_super_test.values.reshape(-1, 1))\n",
    "serie_gasolina_super_test = scaler_test.transform(serie_gasolina_super_test.values.reshape(-1, 1))\n",
    "serie_gasolina_regular_test = scaler_test.transform(serie_gasolina_regular_test.values.reshape(-1, 1))\n",
    "serie_diesel_test = scaler_test.transform(serie_diesel_test.values.reshape(-1, 1))\n",
    "serie_gas_lp_test = scaler_test.transform(serie_gas_lp_test.values.reshape(-1, 1))\n",
    "\n",
    "# Normalizamos las series de importación de test\n",
    "scaler_import_test = StandardScaler()\n",
    "scaler_import_test.fit(serie_gasolina_super_import_test.values.reshape(-1, 1))\n",
    "serie_gasolina_super_import_test = scaler_import_test.transform(serie_gasolina_super_import_test.values.reshape(-1, 1))\n",
    "serie_gasolina_regular_import_test = scaler_import_test.transform(serie_gasolina_regular_import_test.values.reshape(-1, 1))\n",
    "serie_diesel_import_test = scaler_import_test.transform(serie_diesel_import_test.values.reshape(-1, 1))\n",
    "serie_gas_lp_import_test = scaler_import_test.transform(serie_gas_lp_import_test.values.reshape(-1, 1))\n",
    "\n",
    "# Normalizamos las series de precios de test\n",
    "scaler_precios_test = StandardScaler()\n",
    "scaler_precios_test.fit(serie_gasolina_super_precios_test.values.reshape(-1, 1))\n",
    "serie_gasolina_super_precios_test = scaler_precios_test.transform(serie_gasolina_super_precios_test.values.reshape(-1, 1))\n",
    "serie_gasolina_regular_precios_test = scaler_precios_test.transform(serie_gasolina_regular_precios_test.values.reshape(-1, 1))\n",
    "serie_diesel_precios_test = scaler_precios_test.transform(serie_diesel_precios_test.values.reshape(-1, 1))\n",
    "serie_gas_lp_precios_test = scaler_precios_test.transform(serie_gas_lp_precios_test.values.reshape(-1, 1))\n"
   ]
  },
  {
   "cell_type": "code",
   "execution_count": 13,
   "metadata": {},
   "outputs": [],
   "source": [
    "# Normalizamos las series de validation\n",
    "scaler_validation = StandardScaler()\n",
    "scaler_validation.fit(serie_gasolina_super_validation.values.reshape(-1, 1))\n",
    "serie_gasolina_super_validation = scaler_validation.transform(serie_gasolina_super_validation.values.reshape(-1, 1))\n",
    "serie_gasolina_regular_validation = scaler_validation.transform(serie_gasolina_regular_validation.values.reshape(-1, 1))\n",
    "serie_diesel_validation = scaler_validation.transform(serie_diesel_validation.values.reshape(-1, 1))\n",
    "serie_gas_lp_validation = scaler_validation.transform(serie_gas_lp_validation.values.reshape(-1, 1))\n",
    "\n",
    "\n",
    "# Normalizamos las series de importación de validation\n",
    "scaler_import_validation = StandardScaler()\n",
    "scaler_import_validation.fit(serie_gasolina_super_import_validation.values.reshape(-1, 1))\n",
    "serie_gasolina_super_import_validation = scaler_import_validation.transform(serie_gasolina_super_import_validation.values.reshape(-1, 1))\n",
    "serie_gasolina_regular_import_validation = scaler_import_validation.transform(serie_gasolina_regular_import_validation.values.reshape(-1, 1))\n",
    "serie_diesel_import_validation = scaler_import_validation.transform(serie_diesel_import_validation.values.reshape(-1, 1))\n",
    "serie_gas_lp_import_validation = scaler_import_validation.transform(serie_gas_lp_import_validation.values.reshape(-1, 1))\n",
    "\n",
    "\n",
    "# Normalizamos las series de precios de validation\n",
    "scaler_precios_validation = StandardScaler()\n",
    "scaler_precios_validation.fit(serie_gasolina_super_precios_validation.values.reshape(-1, 1))\n",
    "serie_gasolina_super_precios_validation = scaler_precios_validation.transform(serie_gasolina_super_precios_validation.values.reshape(-1, 1))\n",
    "serie_gasolina_regular_precios_validation = scaler_precios_validation.transform(serie_gasolina_regular_precios_validation.values.reshape(-1, 1))\n",
    "serie_diesel_precios_validation = scaler_precios_validation.transform(serie_diesel_precios_validation.values.reshape(-1, 1))\n",
    "serie_gas_lp_precios_validation = scaler_precios_validation.transform(serie_gas_lp_precios_validation.values.reshape(-1, 1))\n"
   ]
  },
  {
   "cell_type": "markdown",
   "metadata": {},
   "source": [
    "Para que pueda usarse el argoritmo LSTM es necesario transformar la serie en una supervisada, de manera que las observaciones anteriores sean capaces de estimar la siguiente. En este caso vamos a usar el mes anterior para predecir el siguiente por lo que vamos a transformar el arreglo de numpy en una matriz de dos dimensiones en la que la dimensión 1 sea el instante t-1 y la dimensión 2 sea el instante t"
   ]
  },
  {
   "cell_type": "code",
   "execution_count": 14,
   "metadata": {},
   "outputs": [],
   "source": [
    "from operator import concat\n",
    "\n",
    "\n",
    "def supervisada(serie,retrasos = 1):\n",
    "    serie_x = []\n",
    "    serie_y = []\n",
    "    for i in range(len(serie)-retrasos):\n",
    "        valor = serie[i:(i+retrasos),0]\n",
    "        valor_sig = serie[i+retrasos,0]\n",
    "        serie_x.append(valor)\n",
    "        serie_y.append(valor_sig)\n",
    "    return np.array(serie_x), np.array(serie_y)\n",
    "\n"
   ]
  },
  {
   "cell_type": "code",
   "execution_count": 15,
   "metadata": {},
   "outputs": [],
   "source": [
    "# Supervisar series de consumo\n",
    "# Gasolina Super\n",
    "x_train_gasolina_super_train, y_train_gasolina_super_train = supervisada(serie_gasolina_super,1)\n",
    "x_train_gasolina_super_test, y_train_gasolina_super_test = supervisada(serie_gasolina_super_test,1)\n",
    "x_train_gasolina_super_validation, y_train_gasolina_super_validation = supervisada(serie_gasolina_super_validation,1)\n",
    "\n",
    "# Gasolina Regular\n",
    "x_train_gasolina_regular_train, y_train_gasolina_regular_train = supervisada(serie_gasolina_regular,1)\n",
    "x_train_gasolina_regular_test, y_train_gasolina_regular_test = supervisada(serie_gasolina_regular_test,1)\n",
    "x_train_gasolina_regular_validation, y_train_gasolina_regular_validation = supervisada(serie_gasolina_regular_validation,1)\n",
    "\n",
    "# Diesel\n",
    "x_train_diesel_train, y_train_diesel_train = supervisada(serie_diesel,1)\n",
    "x_train_diesel_test, y_train_diesel_test = supervisada(serie_diesel_test,1)\n",
    "x_train_diesel_validation, y_train_diesel_validation = supervisada(serie_diesel_validation,1)\n",
    "\n",
    "# Gas LP\n",
    "x_train_gas_lp_train, y_train_gas_lp_train = supervisada(serie_gas_lp,1)\n",
    "x_train_gas_lp_test, y_train_gas_lp_test = supervisada(serie_gas_lp_test,1)\n",
    "x_train_gas_lp_validation, y_train_gas_lp_validation = supervisada(serie_gas_lp_validation,1)"
   ]
  },
  {
   "cell_type": "markdown",
   "metadata": {},
   "source": [
    "### Creamos el modelo.   \n",
    "#### Tensor Flow\n",
    "Vamos a utilizar solo una capa LSTM "
   ]
  },
  {
   "cell_type": "code",
   "execution_count": 16,
   "metadata": {},
   "outputs": [],
   "source": [
    "lote = 1\n",
    "unidades =  1\n",
    "paso = 1\n",
    "caracteristicas = 1 #es univariada\n",
    "\n",
    "inputs = keras.layers.Input((paso,caracteristicas))\n",
    "lstm_out = keras.layers.LSTM(lote)(inputs)\n",
    "outputs = keras.layers.Dense(1)(lstm_out)\n",
    "\n",
    "\n",
    "\n",
    "modelo_consumo_gasolina_super = keras.models.Model(inputs=inputs, outputs=outputs)\n",
    "modelo_consumo_gasolina_regular = keras.models.Model(inputs=inputs, outputs=outputs)\n",
    "modelo_consumo_diesel = keras.models.Model(inputs=inputs, outputs=outputs)\n",
    "modelo_consumo_gas_lp = keras.models.Model(inputs=inputs, outputs=outputs)\n",
    "consumo_models = {\n",
    "    'gasolina_super': modelo_consumo_gasolina_super,\n",
    "    'gasolina_regular': modelo_consumo_gasolina_regular,\n",
    "    'diesel': modelo_consumo_diesel,\n",
    "    'gas_lp': modelo_consumo_gas_lp\n",
    "}\n",
    "\n",
    "\n",
    "# Modelos de importación\n",
    "modelo_importacion_gasolina_super = keras.models.Model(inputs=inputs, outputs=outputs)\n",
    "modelo_importacion_gasolina_regular = keras.models.Model(inputs=inputs, outputs=outputs)\n",
    "modelo_importacion_diesel = keras.models.Model(inputs=inputs, outputs=outputs)\n",
    "modelo_importacion_gas_lp = keras.models.Model(inputs=inputs, outputs=outputs)\n",
    "importacion_models = {\n",
    "    'gasolina_super': modelo_importacion_gasolina_super,\n",
    "    'gasolina_regular': modelo_importacion_gasolina_regular,\n",
    "    'diesel': modelo_importacion_diesel,\n",
    "    'gas_lp': modelo_importacion_gas_lp\n",
    "}\n",
    "\n",
    "# Modelos de precios\n",
    "modelo_precios_gasolina_super = keras.models.Model(inputs=inputs, outputs=outputs)\n",
    "modelo_precios_gasolina_regular = keras.models.Model(inputs=inputs, outputs=outputs)\n",
    "modelo_precios_diesel = keras.models.Model(inputs=inputs, outputs=outputs)\n",
    "modelo_precios_gl = keras.models.Model(inputs=inputs, outputs=outputs)\n",
    "precios_models = {\n",
    "    'gasolina_super': modelo_precios_gasolina_super,\n",
    "    'gasolina_regular': modelo_precios_gasolina_regular,\n",
    "    'diesel': modelo_precios_diesel,\n",
    "    'gl': modelo_precios_gl\n",
    "}\n"
   ]
  },
  {
   "cell_type": "code",
   "execution_count": 17,
   "metadata": {},
   "outputs": [],
   "source": [
    "# Compile Models\n",
    "\n",
    "for key, model in consumo_models.items():\n",
    "    model.compile(loss='mean_squared_error',optimizer=Adam(learning_rate=0.1), metrics = [RootMeanSquaredError()])\n",
    "\n",
    "for key, model in importacion_models.items():\n",
    "    model.compile(loss='mean_squared_error',optimizer=Adam(learning_rate=0.1), metrics = [RootMeanSquaredError()])\n",
    "\n",
    "for key, model in precios_models.items():\n",
    "    model.compile(loss='mean_squared_error',optimizer=Adam(learning_rate=0.1), metrics = [RootMeanSquaredError()])\n",
    "\n"
   ]
  },
  {
   "cell_type": "code",
   "execution_count": 18,
   "metadata": {},
   "outputs": [
    {
     "name": "stderr",
     "output_type": "stream",
     "text": [
      "WARNING:absl:You are saving your model as an HDF5 file via `model.save()` or `keras.saving.save_model(model)`. This file format is considered legacy. We recommend using instead the native Keras format, e.g. `model.save('my_model.keras')` or `keras.saving.save_model(model, 'my_model.keras')`. \n"
     ]
    },
    {
     "name": "stdout",
     "output_type": "stream",
     "text": [
      "gasolina_super trained\n"
     ]
    },
    {
     "name": "stderr",
     "output_type": "stream",
     "text": [
      "WARNING:absl:You are saving your model as an HDF5 file via `model.save()` or `keras.saving.save_model(model)`. This file format is considered legacy. We recommend using instead the native Keras format, e.g. `model.save('my_model.keras')` or `keras.saving.save_model(model, 'my_model.keras')`. \n"
     ]
    },
    {
     "name": "stdout",
     "output_type": "stream",
     "text": [
      "gasolina_regular trained\n"
     ]
    },
    {
     "name": "stderr",
     "output_type": "stream",
     "text": [
      "WARNING:absl:You are saving your model as an HDF5 file via `model.save()` or `keras.saving.save_model(model)`. This file format is considered legacy. We recommend using instead the native Keras format, e.g. `model.save('my_model.keras')` or `keras.saving.save_model(model, 'my_model.keras')`. \n"
     ]
    },
    {
     "name": "stdout",
     "output_type": "stream",
     "text": [
      "diesel trained\n"
     ]
    },
    {
     "name": "stderr",
     "output_type": "stream",
     "text": [
      "WARNING:absl:You are saving your model as an HDF5 file via `model.save()` or `keras.saving.save_model(model)`. This file format is considered legacy. We recommend using instead the native Keras format, e.g. `model.save('my_model.keras')` or `keras.saving.save_model(model, 'my_model.keras')`. \n"
     ]
    },
    {
     "name": "stdout",
     "output_type": "stream",
     "text": [
      "gas_lp trained\n"
     ]
    }
   ],
   "source": [
    "# Train models with 50 epochs\n",
    "for key, model in consumo_models.items():\n",
    "    model.fit(x_train_gasolina_super_train.reshape(-1,1,1), y_train_gasolina_super_train, epochs=50, batch_size=1, verbose=0)\n",
    "    model.save(f'models/consumo_{key}.h5')\n",
    "    print(f'{key} trained')\n",
    "\n"
   ]
  }
 ],
 "metadata": {
  "kernelspec": {
   "display_name": "Python 3",
   "language": "python",
   "name": "python3"
  },
  "language_info": {
   "codemirror_mode": {
    "name": "ipython",
    "version": 3
   },
   "file_extension": ".py",
   "mimetype": "text/x-python",
   "name": "python",
   "nbconvert_exporter": "python",
   "pygments_lexer": "ipython3",
   "version": "3.12.0"
  }
 },
 "nbformat": 4,
 "nbformat_minor": 2
}
